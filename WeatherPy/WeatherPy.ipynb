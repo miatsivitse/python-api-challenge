{
 "cells": [
  {
   "cell_type": "code",
   "execution_count": null,
   "metadata": {},
   "outputs": [],
   "source": []
  }
 ],
 "metadata": {
  "kernelspec": {
   "display_name": "Python 3.9.12 64-bit ('Miniconda3')",
   "language": "python",
   "name": "python3"
  },
  "language_info": {
   "name": "python",
   "version": "3.9.12"
  },
  "orig_nbformat": 4,
  "vscode": {
   "interpreter": {
    "hash": "525e8228baf38baa14dce802b994bb9435fae8be56d85d3d9ff9483cdb4ecfa4"
   }
  }
 },
 "nbformat": 4,
 "nbformat_minor": 2
}
